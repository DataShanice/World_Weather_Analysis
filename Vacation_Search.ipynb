{
 "cells": [
  {
   "cell_type": "markdown",
   "metadata": {},
   "source": [
    "# Challenge Part 2: Have customers narrow their travel searches based on temperature and precipitaion"
   ]
  },
  {
   "cell_type": "code",
   "execution_count": 39,
   "metadata": {},
   "outputs": [],
   "source": [
    "import pandas as pd \n",
    "import requests \n",
    "import gmaps\n",
    "\n",
    "from config import g_key\n"
   ]
  },
  {
   "cell_type": "code",
   "execution_count": 40,
   "metadata": {},
   "outputs": [
    {
     "data": {
      "text/html": [
       "<div>\n",
       "<style scoped>\n",
       "    .dataframe tbody tr th:only-of-type {\n",
       "        vertical-align: middle;\n",
       "    }\n",
       "\n",
       "    .dataframe tbody tr th {\n",
       "        vertical-align: top;\n",
       "    }\n",
       "\n",
       "    .dataframe thead th {\n",
       "        text-align: right;\n",
       "    }\n",
       "</style>\n",
       "<table border=\"1\" class=\"dataframe\">\n",
       "  <thead>\n",
       "    <tr style=\"text-align: right;\">\n",
       "      <th></th>\n",
       "      <th>Unnamed: 0</th>\n",
       "      <th>city</th>\n",
       "      <th>Lat</th>\n",
       "      <th>Lng</th>\n",
       "      <th>Max Temp</th>\n",
       "      <th>Current Description</th>\n",
       "      <th>Rain (inches)</th>\n",
       "      <th>Snow (inches)</th>\n",
       "      <th>Humidity</th>\n",
       "      <th>Cloudiness</th>\n",
       "      <th>Wind Speed</th>\n",
       "      <th>Country</th>\n",
       "    </tr>\n",
       "  </thead>\n",
       "  <tbody>\n",
       "    <tr>\n",
       "      <th>0</th>\n",
       "      <td>0</td>\n",
       "      <td>port elizabeth</td>\n",
       "      <td>-33.92</td>\n",
       "      <td>25.57</td>\n",
       "      <td>48.20</td>\n",
       "      <td>light rain</td>\n",
       "      <td>0.48</td>\n",
       "      <td>0</td>\n",
       "      <td>76</td>\n",
       "      <td>89</td>\n",
       "      <td>10.29</td>\n",
       "      <td>ZA</td>\n",
       "    </tr>\n",
       "    <tr>\n",
       "      <th>1</th>\n",
       "      <td>1</td>\n",
       "      <td>faanui</td>\n",
       "      <td>-16.48</td>\n",
       "      <td>-151.75</td>\n",
       "      <td>79.66</td>\n",
       "      <td>light rain</td>\n",
       "      <td>0.40</td>\n",
       "      <td>0</td>\n",
       "      <td>77</td>\n",
       "      <td>0</td>\n",
       "      <td>5.70</td>\n",
       "      <td>PF</td>\n",
       "    </tr>\n",
       "    <tr>\n",
       "      <th>2</th>\n",
       "      <td>2</td>\n",
       "      <td>ugra</td>\n",
       "      <td>54.78</td>\n",
       "      <td>34.33</td>\n",
       "      <td>54.64</td>\n",
       "      <td>moderate rain</td>\n",
       "      <td>1.29</td>\n",
       "      <td>0</td>\n",
       "      <td>97</td>\n",
       "      <td>100</td>\n",
       "      <td>16.53</td>\n",
       "      <td>RU</td>\n",
       "    </tr>\n",
       "    <tr>\n",
       "      <th>3</th>\n",
       "      <td>3</td>\n",
       "      <td>jucuapa</td>\n",
       "      <td>13.52</td>\n",
       "      <td>-88.38</td>\n",
       "      <td>91.40</td>\n",
       "      <td>light rain</td>\n",
       "      <td>0.75</td>\n",
       "      <td>0</td>\n",
       "      <td>63</td>\n",
       "      <td>64</td>\n",
       "      <td>1.92</td>\n",
       "      <td>SV</td>\n",
       "    </tr>\n",
       "    <tr>\n",
       "      <th>4</th>\n",
       "      <td>4</td>\n",
       "      <td>port alfred</td>\n",
       "      <td>-33.59</td>\n",
       "      <td>26.89</td>\n",
       "      <td>51.31</td>\n",
       "      <td>light rain</td>\n",
       "      <td>0.29</td>\n",
       "      <td>0</td>\n",
       "      <td>73</td>\n",
       "      <td>76</td>\n",
       "      <td>15.17</td>\n",
       "      <td>ZA</td>\n",
       "    </tr>\n",
       "    <tr>\n",
       "      <th>...</th>\n",
       "      <td>...</td>\n",
       "      <td>...</td>\n",
       "      <td>...</td>\n",
       "      <td>...</td>\n",
       "      <td>...</td>\n",
       "      <td>...</td>\n",
       "      <td>...</td>\n",
       "      <td>...</td>\n",
       "      <td>...</td>\n",
       "      <td>...</td>\n",
       "      <td>...</td>\n",
       "      <td>...</td>\n",
       "    </tr>\n",
       "    <tr>\n",
       "      <th>61</th>\n",
       "      <td>61</td>\n",
       "      <td>jieshi</td>\n",
       "      <td>22.81</td>\n",
       "      <td>115.83</td>\n",
       "      <td>86.27</td>\n",
       "      <td>light rain</td>\n",
       "      <td>0.71</td>\n",
       "      <td>0</td>\n",
       "      <td>76</td>\n",
       "      <td>45</td>\n",
       "      <td>12.12</td>\n",
       "      <td>CN</td>\n",
       "    </tr>\n",
       "    <tr>\n",
       "      <th>62</th>\n",
       "      <td>62</td>\n",
       "      <td>kavaratti</td>\n",
       "      <td>10.57</td>\n",
       "      <td>72.64</td>\n",
       "      <td>83.07</td>\n",
       "      <td>light rain</td>\n",
       "      <td>0.22</td>\n",
       "      <td>0</td>\n",
       "      <td>75</td>\n",
       "      <td>100</td>\n",
       "      <td>10.74</td>\n",
       "      <td>IN</td>\n",
       "    </tr>\n",
       "    <tr>\n",
       "      <th>63</th>\n",
       "      <td>63</td>\n",
       "      <td>abonnema</td>\n",
       "      <td>4.71</td>\n",
       "      <td>6.79</td>\n",
       "      <td>73.99</td>\n",
       "      <td>moderate rain</td>\n",
       "      <td>1.41</td>\n",
       "      <td>0</td>\n",
       "      <td>92</td>\n",
       "      <td>100</td>\n",
       "      <td>6.87</td>\n",
       "      <td>NG</td>\n",
       "    </tr>\n",
       "    <tr>\n",
       "      <th>64</th>\n",
       "      <td>64</td>\n",
       "      <td>bogande</td>\n",
       "      <td>12.97</td>\n",
       "      <td>-0.14</td>\n",
       "      <td>79.38</td>\n",
       "      <td>moderate rain</td>\n",
       "      <td>1.13</td>\n",
       "      <td>0</td>\n",
       "      <td>74</td>\n",
       "      <td>100</td>\n",
       "      <td>14.67</td>\n",
       "      <td>BF</td>\n",
       "    </tr>\n",
       "    <tr>\n",
       "      <th>65</th>\n",
       "      <td>65</td>\n",
       "      <td>hanover</td>\n",
       "      <td>52.37</td>\n",
       "      <td>9.73</td>\n",
       "      <td>60.01</td>\n",
       "      <td>light rain</td>\n",
       "      <td>0.25</td>\n",
       "      <td>0</td>\n",
       "      <td>100</td>\n",
       "      <td>75</td>\n",
       "      <td>2.24</td>\n",
       "      <td>DE</td>\n",
       "    </tr>\n",
       "  </tbody>\n",
       "</table>\n",
       "<p>66 rows × 12 columns</p>\n",
       "</div>"
      ],
      "text/plain": [
       "    Unnamed: 0            city    Lat     Lng  Max Temp Current Description  \\\n",
       "0            0  port elizabeth -33.92   25.57     48.20          light rain   \n",
       "1            1          faanui -16.48 -151.75     79.66          light rain   \n",
       "2            2            ugra  54.78   34.33     54.64       moderate rain   \n",
       "3            3         jucuapa  13.52  -88.38     91.40          light rain   \n",
       "4            4     port alfred -33.59   26.89     51.31          light rain   \n",
       "..         ...             ...    ...     ...       ...                 ...   \n",
       "61          61          jieshi  22.81  115.83     86.27          light rain   \n",
       "62          62       kavaratti  10.57   72.64     83.07          light rain   \n",
       "63          63        abonnema   4.71    6.79     73.99       moderate rain   \n",
       "64          64         bogande  12.97   -0.14     79.38       moderate rain   \n",
       "65          65         hanover  52.37    9.73     60.01          light rain   \n",
       "\n",
       "    Rain (inches)  Snow (inches)  Humidity  Cloudiness  Wind Speed Country  \n",
       "0            0.48              0        76          89       10.29      ZA  \n",
       "1            0.40              0        77           0        5.70      PF  \n",
       "2            1.29              0        97         100       16.53      RU  \n",
       "3            0.75              0        63          64        1.92      SV  \n",
       "4            0.29              0        73          76       15.17      ZA  \n",
       "..            ...            ...       ...         ...         ...     ...  \n",
       "61           0.71              0        76          45       12.12      CN  \n",
       "62           0.22              0        75         100       10.74      IN  \n",
       "63           1.41              0        92         100        6.87      NG  \n",
       "64           1.13              0        74         100       14.67      BF  \n",
       "65           0.25              0       100          75        2.24      DE  \n",
       "\n",
       "[66 rows x 12 columns]"
      ]
     },
     "execution_count": 40,
     "metadata": {},
     "output_type": "execute_result"
    }
   ],
   "source": [
    "city_data_df = pd.read_csv(\"city_data.csv\")\n",
    "city_data_df"
   ]
  },
  {
   "cell_type": "code",
   "execution_count": 41,
   "metadata": {},
   "outputs": [
    {
     "data": {
      "text/plain": [
       "Unnamed: 0               int64\n",
       "city                    object\n",
       "Lat                    float64\n",
       "Lng                    float64\n",
       "Max Temp               float64\n",
       "Current Description     object\n",
       "Rain (inches)          float64\n",
       "Snow (inches)            int64\n",
       "Humidity                 int64\n",
       "Cloudiness               int64\n",
       "Wind Speed             float64\n",
       "Country                 object\n",
       "dtype: object"
      ]
     },
     "execution_count": 41,
     "metadata": {},
     "output_type": "execute_result"
    }
   ],
   "source": [
    "city_data_df.dtypes"
   ]
  },
  {
   "cell_type": "code",
   "execution_count": 42,
   "metadata": {},
   "outputs": [],
   "source": [
    "# Configure gmaps\n",
    "gmaps.configure(api_key=g_key)"
   ]
  },
  {
   "cell_type": "code",
   "execution_count": 43,
   "metadata": {},
   "outputs": [
    {
     "name": "stdout",
     "output_type": "stream",
     "text": [
      "What is the minimum temperature you would like for your vacation0\n",
      "What is the maximum temperature you would like for your vacation200\n"
     ]
    }
   ],
   "source": [
    "# Enter max temperature criteria \n",
    "min_temp = float(input(\"What is the minimum temperature you would like for your vacation\"))\n",
    "max_temp = float(input(\"What is the maximum temperature you would like for your vacation\"))\n",
    "\n"
   ]
  },
  {
   "cell_type": "code",
   "execution_count": 44,
   "metadata": {},
   "outputs": [
    {
     "name": "stdout",
     "output_type": "stream",
     "text": [
      "Do you want in to be raining? (yes/no)no\n"
     ]
    }
   ],
   "source": [
    "# Ask the customer if you want it to be raining \n",
    "rain_amount = input(\"Do you want in to be raining? (yes/no)\")"
   ]
  },
  {
   "cell_type": "code",
   "execution_count": 45,
   "metadata": {},
   "outputs": [
    {
     "name": "stdout",
     "output_type": "stream",
     "text": [
      "Do you want in to be snowing? (yes/no)no\n"
     ]
    }
   ],
   "source": [
    "# Ask the customer if you want it to be snowing\n",
    "snow_amount = input(\"Do you want in to be snowing? (yes/no)\")"
   ]
  },
  {
   "cell_type": "code",
   "execution_count": 46,
   "metadata": {},
   "outputs": [],
   "source": [
    "if rain_amount == \"no\" and snow_amount == \"no\":\n",
    "    filtered_cities_df = city_data_df.loc[(city_data_df[\"Max Temp\"] <= max_temp)&\n",
    "                                          (city_data_df[\"Max Temp\"] >= min_temp)&\n",
    "                                          (city_data_df[\"Rain (inches)\"] == 0) &\n",
    "                                          (city_data_df[\"Snow (inches)\"] == 0)]\n",
    "    \n",
    "elif rain_amount == \"no\" and snow_amount == \"yes\":\n",
    "    filtered_cities_df = city_data_df.loc[(city_data_df[\"Max Temp\"] <= max_temp)&\n",
    "                                          (city_data_df[\"Max Temp\"] >= min_temp)&\n",
    "                                          (city_data_df[\"Rain (inches)\"] == 0) &\n",
    "                                          (city_data_df[\"Snow (inches)\"] >= 0.0)]\n",
    "elif rain_amount == \"yes\" and snow_amount == \"no\":\n",
    "    filtered_cities_df = city_data_df.loc[(city_data_df[\"Max Temp\"] <= max_temp)&\n",
    "                                          (city_data_df[\"Max Temp\"] >= min_temp)&\n",
    "                                          (city_data_df[\"Rain (inches)\"] > 0.0) &\n",
    "                                          (city_data_df[\"Snow (inches)\"] == 0)]\n",
    "else:\n",
    "    filtered_cities_df = city_data_df.loc[(city_data_df[\"Max Temp\"] <= max_temp)&\n",
    "                                          (city_data_df[\"Max Temp\"] >= min_temp)&\n",
    "                                          (city_data_df[\"Rain (inches)\"] > 0.0) &\n",
    "                                          (city_data_df[\"Snow (inches)\"] > 0)]"
   ]
  },
  {
   "cell_type": "code",
   "execution_count": 47,
   "metadata": {},
   "outputs": [
    {
     "data": {
      "text/plain": [
       "Unnamed: 0             0\n",
       "city                   0\n",
       "Lat                    0\n",
       "Lng                    0\n",
       "Max Temp               0\n",
       "Current Description    0\n",
       "Rain (inches)          0\n",
       "Snow (inches)          0\n",
       "Humidity               0\n",
       "Cloudiness             0\n",
       "Wind Speed             0\n",
       "Country                0\n",
       "dtype: int64"
      ]
     },
     "execution_count": 47,
     "metadata": {},
     "output_type": "execute_result"
    }
   ],
   "source": [
    "filtered_cities_df.count()"
   ]
  },
  {
   "cell_type": "code",
   "execution_count": 51,
   "metadata": {},
   "outputs": [
    {
     "data": {
      "text/html": [
       "<div>\n",
       "<style scoped>\n",
       "    .dataframe tbody tr th:only-of-type {\n",
       "        vertical-align: middle;\n",
       "    }\n",
       "\n",
       "    .dataframe tbody tr th {\n",
       "        vertical-align: top;\n",
       "    }\n",
       "\n",
       "    .dataframe thead th {\n",
       "        text-align: right;\n",
       "    }\n",
       "</style>\n",
       "<table border=\"1\" class=\"dataframe\">\n",
       "  <thead>\n",
       "    <tr style=\"text-align: right;\">\n",
       "      <th></th>\n",
       "      <th>city</th>\n",
       "      <th>Country</th>\n",
       "      <th>Max Temp</th>\n",
       "      <th>Lat</th>\n",
       "      <th>Lng</th>\n",
       "      <th>Hotel Name</th>\n",
       "    </tr>\n",
       "  </thead>\n",
       "  <tbody>\n",
       "  </tbody>\n",
       "</table>\n",
       "</div>"
      ],
      "text/plain": [
       "Empty DataFrame\n",
       "Columns: [city, Country, Max Temp, Lat, Lng, Hotel Name]\n",
       "Index: []"
      ]
     },
     "execution_count": 51,
     "metadata": {},
     "output_type": "execute_result"
    }
   ],
   "source": [
    "hotel_df = filtered_cities_df[[\"city\", \"Country\", \"Max Temp\", \"Lat\", \"Lng\"]].copy()\n",
    "hotel_df[\"Hotel Name\"] = \"\"\n",
    "hotel_df.head()"
   ]
  },
  {
   "cell_type": "code",
   "execution_count": 53,
   "metadata": {},
   "outputs": [],
   "source": [
    "params = {\n",
    "    \"radius\": 500,\n",
    "    \"type\" : \"lodging\",\n",
    "    \"key\" : g_key\n",
    "}\n",
    "# Iterate through\n",
    "for index, row in hotel_df.iterrows():\n",
    "    lat = row[\"Lat\"]\n",
    "    lng = row[\"Lng\"]\n",
    "    \n",
    "    params[\"location\"] = f\"{lat}, {lng}\"\n",
    "    \n",
    "    base_url = \"https://maps.google.com/maps/api/place/nearbysearch/json\"\n",
    "    \n",
    "    hotels = requests.get(base_url, params=parse).json()\n",
    "    \n",
    "    try:\n",
    "        hotel_df.loc[index, \"Hotel Name\"] = hotels[\"results\"][0][\"name\"]\n",
    "    except IndexError:\n",
    "        print(\"Hotel not found...skipping...\")"
   ]
  },
  {
   "cell_type": "code",
   "execution_count": 54,
   "metadata": {},
   "outputs": [
    {
     "data": {
      "text/html": [
       "<div>\n",
       "<style scoped>\n",
       "    .dataframe tbody tr th:only-of-type {\n",
       "        vertical-align: middle;\n",
       "    }\n",
       "\n",
       "    .dataframe tbody tr th {\n",
       "        vertical-align: top;\n",
       "    }\n",
       "\n",
       "    .dataframe thead th {\n",
       "        text-align: right;\n",
       "    }\n",
       "</style>\n",
       "<table border=\"1\" class=\"dataframe\">\n",
       "  <thead>\n",
       "    <tr style=\"text-align: right;\">\n",
       "      <th></th>\n",
       "      <th>city</th>\n",
       "      <th>Country</th>\n",
       "      <th>Max Temp</th>\n",
       "      <th>Lat</th>\n",
       "      <th>Lng</th>\n",
       "      <th>Hotel Name</th>\n",
       "    </tr>\n",
       "  </thead>\n",
       "  <tbody>\n",
       "  </tbody>\n",
       "</table>\n",
       "</div>"
      ],
      "text/plain": [
       "Empty DataFrame\n",
       "Columns: [city, Country, Max Temp, Lat, Lng, Hotel Name]\n",
       "Index: []"
      ]
     },
     "execution_count": 54,
     "metadata": {},
     "output_type": "execute_result"
    }
   ],
   "source": [
    "hotel_df.head()"
   ]
  },
  {
   "cell_type": "code",
   "execution_count": 55,
   "metadata": {},
   "outputs": [],
   "source": [
    "city_data_df.to_csv(\"city_data.csv\")"
   ]
  },
  {
   "cell_type": "code",
   "execution_count": 56,
   "metadata": {},
   "outputs": [
    {
     "data": {
      "text/html": [
       "<div>\n",
       "<style scoped>\n",
       "    .dataframe tbody tr th:only-of-type {\n",
       "        vertical-align: middle;\n",
       "    }\n",
       "\n",
       "    .dataframe tbody tr th {\n",
       "        vertical-align: top;\n",
       "    }\n",
       "\n",
       "    .dataframe thead th {\n",
       "        text-align: right;\n",
       "    }\n",
       "</style>\n",
       "<table border=\"1\" class=\"dataframe\">\n",
       "  <thead>\n",
       "    <tr style=\"text-align: right;\">\n",
       "      <th></th>\n",
       "      <th>Unnamed: 0</th>\n",
       "      <th>Unnamed: 0.1</th>\n",
       "      <th>city</th>\n",
       "      <th>Lat</th>\n",
       "      <th>Lng</th>\n",
       "      <th>Max Temp</th>\n",
       "      <th>Current Description</th>\n",
       "      <th>Rain (inches)</th>\n",
       "      <th>Snow (inches)</th>\n",
       "      <th>Humidity</th>\n",
       "      <th>Cloudiness</th>\n",
       "      <th>Wind Speed</th>\n",
       "      <th>Country</th>\n",
       "    </tr>\n",
       "  </thead>\n",
       "  <tbody>\n",
       "    <tr>\n",
       "      <th>0</th>\n",
       "      <td>0</td>\n",
       "      <td>0</td>\n",
       "      <td>port elizabeth</td>\n",
       "      <td>-33.92</td>\n",
       "      <td>25.57</td>\n",
       "      <td>48.20</td>\n",
       "      <td>light rain</td>\n",
       "      <td>0.48</td>\n",
       "      <td>0</td>\n",
       "      <td>76</td>\n",
       "      <td>89</td>\n",
       "      <td>10.29</td>\n",
       "      <td>ZA</td>\n",
       "    </tr>\n",
       "    <tr>\n",
       "      <th>1</th>\n",
       "      <td>1</td>\n",
       "      <td>1</td>\n",
       "      <td>faanui</td>\n",
       "      <td>-16.48</td>\n",
       "      <td>-151.75</td>\n",
       "      <td>79.66</td>\n",
       "      <td>light rain</td>\n",
       "      <td>0.40</td>\n",
       "      <td>0</td>\n",
       "      <td>77</td>\n",
       "      <td>0</td>\n",
       "      <td>5.70</td>\n",
       "      <td>PF</td>\n",
       "    </tr>\n",
       "    <tr>\n",
       "      <th>2</th>\n",
       "      <td>2</td>\n",
       "      <td>2</td>\n",
       "      <td>ugra</td>\n",
       "      <td>54.78</td>\n",
       "      <td>34.33</td>\n",
       "      <td>54.64</td>\n",
       "      <td>moderate rain</td>\n",
       "      <td>1.29</td>\n",
       "      <td>0</td>\n",
       "      <td>97</td>\n",
       "      <td>100</td>\n",
       "      <td>16.53</td>\n",
       "      <td>RU</td>\n",
       "    </tr>\n",
       "    <tr>\n",
       "      <th>3</th>\n",
       "      <td>3</td>\n",
       "      <td>3</td>\n",
       "      <td>jucuapa</td>\n",
       "      <td>13.52</td>\n",
       "      <td>-88.38</td>\n",
       "      <td>91.40</td>\n",
       "      <td>light rain</td>\n",
       "      <td>0.75</td>\n",
       "      <td>0</td>\n",
       "      <td>63</td>\n",
       "      <td>64</td>\n",
       "      <td>1.92</td>\n",
       "      <td>SV</td>\n",
       "    </tr>\n",
       "    <tr>\n",
       "      <th>4</th>\n",
       "      <td>4</td>\n",
       "      <td>4</td>\n",
       "      <td>port alfred</td>\n",
       "      <td>-33.59</td>\n",
       "      <td>26.89</td>\n",
       "      <td>51.31</td>\n",
       "      <td>light rain</td>\n",
       "      <td>0.29</td>\n",
       "      <td>0</td>\n",
       "      <td>73</td>\n",
       "      <td>76</td>\n",
       "      <td>15.17</td>\n",
       "      <td>ZA</td>\n",
       "    </tr>\n",
       "  </tbody>\n",
       "</table>\n",
       "</div>"
      ],
      "text/plain": [
       "   Unnamed: 0  Unnamed: 0.1            city    Lat     Lng  Max Temp  \\\n",
       "0           0             0  port elizabeth -33.92   25.57     48.20   \n",
       "1           1             1          faanui -16.48 -151.75     79.66   \n",
       "2           2             2            ugra  54.78   34.33     54.64   \n",
       "3           3             3         jucuapa  13.52  -88.38     91.40   \n",
       "4           4             4     port alfred -33.59   26.89     51.31   \n",
       "\n",
       "  Current Description  Rain (inches)  Snow (inches)  Humidity  Cloudiness  \\\n",
       "0          light rain           0.48              0        76          89   \n",
       "1          light rain           0.40              0        77           0   \n",
       "2       moderate rain           1.29              0        97         100   \n",
       "3          light rain           0.75              0        63          64   \n",
       "4          light rain           0.29              0        73          76   \n",
       "\n",
       "   Wind Speed Country  \n",
       "0       10.29      ZA  \n",
       "1        5.70      PF  \n",
       "2       16.53      RU  \n",
       "3        1.92      SV  \n",
       "4       15.17      ZA  "
      ]
     },
     "execution_count": 56,
     "metadata": {},
     "output_type": "execute_result"
    }
   ],
   "source": [
    "vacation_df = pd.read_csv(\"city_data.csv\")\n",
    "vacation_df.head()"
   ]
  },
  {
   "cell_type": "code",
   "execution_count": 59,
   "metadata": {},
   "outputs": [
    {
     "ename": "KeyError",
     "evalue": "'Hotel Name'",
     "output_type": "error",
     "traceback": [
      "\u001b[0;31m---------------------------------------------------------------------------\u001b[0m",
      "\u001b[0;31mKeyError\u001b[0m                                  Traceback (most recent call last)",
      "\u001b[0;32m<ipython-input-59-1652c7cf67fc>\u001b[0m in \u001b[0;36m<module>\u001b[0;34m\u001b[0m\n\u001b[1;32m      8\u001b[0m \"\"\"\n\u001b[1;32m      9\u001b[0m \u001b[0;34m\u001b[0m\u001b[0m\n\u001b[0;32m---> 10\u001b[0;31m \u001b[0mhotel_info\u001b[0m \u001b[0;34m=\u001b[0m \u001b[0;34m[\u001b[0m\u001b[0minfo_box_template\u001b[0m\u001b[0;34m.\u001b[0m\u001b[0mformat\u001b[0m\u001b[0;34m(\u001b[0m\u001b[0;34m**\u001b[0m\u001b[0mrow\u001b[0m\u001b[0;34m)\u001b[0m \u001b[0;32mfor\u001b[0m \u001b[0mindex\u001b[0m\u001b[0;34m,\u001b[0m \u001b[0mrow\u001b[0m \u001b[0;32min\u001b[0m \u001b[0mvacation_df\u001b[0m\u001b[0;34m.\u001b[0m\u001b[0miterrows\u001b[0m\u001b[0;34m(\u001b[0m\u001b[0;34m)\u001b[0m\u001b[0;34m]\u001b[0m\u001b[0;34m\u001b[0m\u001b[0;34m\u001b[0m\u001b[0m\n\u001b[0m\u001b[1;32m     11\u001b[0m \u001b[0mlocations\u001b[0m \u001b[0;34m=\u001b[0m \u001b[0mvacation_df\u001b[0m\u001b[0;34m[\u001b[0m\u001b[0;34m[\u001b[0m\u001b[0;34m\"Lat\"\u001b[0m\u001b[0;34m,\u001b[0m \u001b[0;34m\"Lng\"\u001b[0m\u001b[0;34m]\u001b[0m\u001b[0;34m]\u001b[0m\u001b[0;34m\u001b[0m\u001b[0;34m\u001b[0m\u001b[0m\n",
      "\u001b[0;32m<ipython-input-59-1652c7cf67fc>\u001b[0m in \u001b[0;36m<listcomp>\u001b[0;34m(.0)\u001b[0m\n\u001b[1;32m      8\u001b[0m \"\"\"\n\u001b[1;32m      9\u001b[0m \u001b[0;34m\u001b[0m\u001b[0m\n\u001b[0;32m---> 10\u001b[0;31m \u001b[0mhotel_info\u001b[0m \u001b[0;34m=\u001b[0m \u001b[0;34m[\u001b[0m\u001b[0minfo_box_template\u001b[0m\u001b[0;34m.\u001b[0m\u001b[0mformat\u001b[0m\u001b[0;34m(\u001b[0m\u001b[0;34m**\u001b[0m\u001b[0mrow\u001b[0m\u001b[0;34m)\u001b[0m \u001b[0;32mfor\u001b[0m \u001b[0mindex\u001b[0m\u001b[0;34m,\u001b[0m \u001b[0mrow\u001b[0m \u001b[0;32min\u001b[0m \u001b[0mvacation_df\u001b[0m\u001b[0;34m.\u001b[0m\u001b[0miterrows\u001b[0m\u001b[0;34m(\u001b[0m\u001b[0;34m)\u001b[0m\u001b[0;34m]\u001b[0m\u001b[0;34m\u001b[0m\u001b[0;34m\u001b[0m\u001b[0m\n\u001b[0m\u001b[1;32m     11\u001b[0m \u001b[0mlocations\u001b[0m \u001b[0;34m=\u001b[0m \u001b[0mvacation_df\u001b[0m\u001b[0;34m[\u001b[0m\u001b[0;34m[\u001b[0m\u001b[0;34m\"Lat\"\u001b[0m\u001b[0;34m,\u001b[0m \u001b[0;34m\"Lng\"\u001b[0m\u001b[0;34m]\u001b[0m\u001b[0;34m]\u001b[0m\u001b[0;34m\u001b[0m\u001b[0;34m\u001b[0m\u001b[0m\n",
      "\u001b[0;31mKeyError\u001b[0m: 'Hotel Name'"
     ]
    }
   ],
   "source": [
    "# Using the template add the hotel marks to the heatmap \n",
    "info_box_template = \"\"\"\n",
    "<dl>\n",
    "<dt>Hotel Name</dt><dd>{Hotel Name}</dd>\n",
    "<dt>City</dt><dd>{City}</dd>\n",
    "<dt>Country</dt><dd>{Country}</dd>\n",
    "<dt>Hotel Name</dt><dd>{Hotel Name} at {Max Temp}</dd>\n",
    "\"\"\"\n",
    "\n",
    "hotel_info = [info_box_template.format(**row) for index, row in vacation_df.iterrows()]\n",
    "locations = vacation_df[[\"Lat\", \"Lng\"]]"
   ]
  },
  {
   "cell_type": "code",
   "execution_count": 60,
   "metadata": {},
   "outputs": [
    {
     "ename": "SyntaxError",
     "evalue": "invalid syntax (<ipython-input-60-a1642ba8b19d>, line 1)",
     "output_type": "error",
     "traceback": [
      "\u001b[0;36m  File \u001b[0;32m\"<ipython-input-60-a1642ba8b19d>\"\u001b[0;36m, line \u001b[0;32m1\u001b[0m\n\u001b[0;31m    marker_layer = gmaps.marker_layer[locations, info_box_content=hotel_info]\u001b[0m\n\u001b[0m                                                                 ^\u001b[0m\n\u001b[0;31mSyntaxError\u001b[0m\u001b[0;31m:\u001b[0m invalid syntax\n"
     ]
    }
   ],
   "source": [
    "marker_layer = gmaps.marker_layer[locations, info_box_content=hotel_info]\n",
    "fig = gmaps.figure()\n",
    "fig.add_layer(marker_layer)\n",
    "\n",
    "fig"
   ]
  },
  {
   "cell_type": "code",
   "execution_count": null,
   "metadata": {},
   "outputs": [],
   "source": []
  }
 ],
 "metadata": {
  "kernelspec": {
   "display_name": "Python 3",
   "language": "python",
   "name": "python3"
  },
  "language_info": {
   "codemirror_mode": {
    "name": "ipython",
    "version": 3
   },
   "file_extension": ".py",
   "mimetype": "text/x-python",
   "name": "python",
   "nbconvert_exporter": "python",
   "pygments_lexer": "ipython3",
   "version": "3.8.3"
  }
 },
 "nbformat": 4,
 "nbformat_minor": 4
}
